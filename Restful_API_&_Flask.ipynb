{
  "nbformat": 4,
  "nbformat_minor": 0,
  "metadata": {
    "colab": {
      "provenance": []
    },
    "kernelspec": {
      "name": "python3",
      "display_name": "Python 3"
    },
    "language_info": {
      "name": "python"
    }
  },
  "cells": [
    {
      "cell_type": "markdown",
      "source": [
        "1. What is a RESTful API4"
      ],
      "metadata": {
        "id": "j7ebkwRYviO2"
      }
    },
    {
      "cell_type": "markdown",
      "source": [
        "A RESTful API (Representational State Transfer) is a web service that follows REST architecture principles, allowing communication between systems using standard HTTP methods (GET, POST, PUT, DELETE)."
      ],
      "metadata": {
        "id": "ZyyUcCY-vrRc"
      }
    },
    {
      "cell_type": "markdown",
      "source": [
        "2. Explain the concept of API specification"
      ],
      "metadata": {
        "id": "x0F2YDLsvshh"
      }
    },
    {
      "cell_type": "markdown",
      "source": [
        "An API specification is a formal document that defines how clients should interact with an API—covering endpoints, request/response formats, parameters, authentication, and status codes. Common formats include OpenAPI (Swagger)."
      ],
      "metadata": {
        "id": "3LXW5ogxv21G"
      }
    },
    {
      "cell_type": "markdown",
      "source": [
        "3. What is Flask, and why is it popular for building APIs?"
      ],
      "metadata": {
        "id": "irqvDzbav5HB"
      }
    },
    {
      "cell_type": "markdown",
      "source": [
        "Flask is a lightweight Python web framework. It's popular for API development because it's simple, flexible, and supports extensions like Flask-RESTful and Flask-SQLAlchemy.\n",
        "\n"
      ],
      "metadata": {
        "id": "t4wUjt3_v7Fx"
      }
    },
    {
      "cell_type": "markdown",
      "source": [
        "4. What is routing in Flask?"
      ],
      "metadata": {
        "id": "Pft9RcWGv-OB"
      }
    },
    {
      "cell_type": "markdown",
      "source": [
        "Routing maps URLs to Python functions. When a specific URL is accessed, Flask routes the request to the matching function (called a view or endpoint)."
      ],
      "metadata": {
        "id": "-Y3Is30xwB0C"
      }
    },
    {
      "cell_type": "markdown",
      "source": [
        "5. How do you create a simple Flask application?"
      ],
      "metadata": {
        "id": "v7BcOpZpwwR0"
      }
    },
    {
      "cell_type": "markdown",
      "source": [
        "To create a simple Flask app:\n",
        "\n",
        "1.Install Flask using pip install flask.\n",
        "\n",
        "2.Create a Python script where you define the app.\n",
        "\n",
        "3.Initialize the Flask app using Flask(__name__).\n",
        "\n",
        "4.Define routes using decorators (e.g., @app.route('/')) to map URLs to functions.\n",
        "\n",
        "5.Run the app with app.run(), which starts a development server.\n",
        "\n",
        "6.Access the application via a web browser using the local server URL (e.g., http://127.0.0.1:5000)."
      ],
      "metadata": {
        "id": "IdheN__93Cll"
      }
    },
    {
      "cell_type": "markdown",
      "source": [
        "6. What are HTTP methods used in RESTful APIs?"
      ],
      "metadata": {
        "id": "sQjdfLeFxRGv"
      }
    },
    {
      "cell_type": "markdown",
      "source": [
        "- GET – Retrieve data\n",
        "\n",
        "- POST – Create new data\n",
        "\n",
        "- PUT – Update existing data\n",
        "\n",
        "- DELETE – Remove data\n",
        "\n",
        "- PATCH – Partially update data"
      ],
      "metadata": {
        "id": "A4SNxD6dxU4r"
      }
    },
    {
      "cell_type": "markdown",
      "source": [
        "7. What is the purpose of the @app.route() decorator in Flask?"
      ],
      "metadata": {
        "id": "lvHeJ2uKxbcU"
      }
    },
    {
      "cell_type": "markdown",
      "source": [
        "It binds a URL path to a function. When that path is accessed, the function is executed."
      ],
      "metadata": {
        "id": "xyVz5hUyxfld"
      }
    },
    {
      "cell_type": "markdown",
      "source": [
        "8. What is the difference between GET and POST HTTP methods?"
      ],
      "metadata": {
        "id": "H99iW98NxrBS"
      }
    },
    {
      "cell_type": "markdown",
      "source": [
        "- GET: Retrieves data, no body required, idempotent\n",
        "\n",
        "- POST: Submits data (e.g., form), modifies server state, body required"
      ],
      "metadata": {
        "id": "KmDiKFa2xstU"
      }
    },
    {
      "cell_type": "markdown",
      "source": [
        "9. How do you handle errors in Flask API?"
      ],
      "metadata": {
        "id": "NLuZFjOIyByb"
      }
    },
    {
      "cell_type": "markdown",
      "source": [
        "In Flask, error handling is done using error handlers. You can define custom responses for different HTTP error codes like 404 Not Found or 500 Internal Server Error. This improves user experience and provides clear feedback. Flask also allows the use of try-except blocks inside route functions to catch and manage runtime errors gracefully."
      ],
      "metadata": {
        "id": "HJwsWeW92-fC"
      }
    },
    {
      "cell_type": "code",
      "source": [
        "@app.errorhandler(404)\n",
        "def not_found(error):\n",
        "    return {'error': 'Not Found'}, 404\n"
      ],
      "metadata": {
        "id": "F58xFQY3yGXk"
      },
      "execution_count": 2,
      "outputs": []
    },
    {
      "cell_type": "markdown",
      "source": [
        "10. How do you connect Flask to a SQL database?"
      ],
      "metadata": {
        "id": "s5Ei9rLbyLeA"
      }
    },
    {
      "cell_type": "markdown",
      "source": [
        "Flask can be connected to a SQL database by:\n",
        "\n",
        "- Using a database URL (like for SQLite, PostgreSQL, MySQL) in the configuration.\n",
        "\n",
        "- Setting up an ORM (Object-Relational Mapper) like SQLAlchemy or Flask-SQLAlchemy.\n",
        "\n",
        "- Defining models (classes) that map to database tables.\n",
        "\n",
        "- Using database sessions to add, query, and manage records in the database."
      ],
      "metadata": {
        "id": "cGrDe0R1206f"
      }
    },
    {
      "cell_type": "markdown",
      "source": [
        "11. What is the role of Flask-SQLAlchemy?"
      ],
      "metadata": {
        "id": "x_JKiORUyj-u"
      }
    },
    {
      "cell_type": "markdown",
      "source": [
        "It's an extension that simplifies database integration using SQLAlchemy ORM in Flask apps."
      ],
      "metadata": {
        "id": "DEazZ6xuymCd"
      }
    },
    {
      "cell_type": "markdown",
      "source": [
        "12. What are Flask Blueprints, and how are they useful?"
      ],
      "metadata": {
        "id": "eEXhfj1Wypjt"
      }
    },
    {
      "cell_type": "markdown",
      "source": [
        "Blueprints allow modular design by grouping related routes and logic. Useful for larger apps with multiple modules."
      ],
      "metadata": {
        "id": "bBsIkGq1ysBg"
      }
    },
    {
      "cell_type": "markdown",
      "source": [
        "13. What is the purpose of Flask's request object?"
      ],
      "metadata": {
        "id": "kMxkU5nhytpw"
      }
    },
    {
      "cell_type": "markdown",
      "source": [
        "The request object in Flask provides access to incoming request data. It lets you read:\n",
        "\n",
        "- Form data submitted by users\n",
        "\n",
        "- JSON data from API calls\n",
        "\n",
        "- Query parameters from URLs\n",
        "\n",
        "- Request headers, method (GET, POST), and cookies\n",
        "\n",
        "This is essential for handling dynamic input from users or clients."
      ],
      "metadata": {
        "id": "T73R_e2e2rob"
      }
    },
    {
      "cell_type": "markdown",
      "source": [
        "14. How do you create a RESTful API endpoint using Flask?"
      ],
      "metadata": {
        "id": "sFsONj6Xy7fy"
      }
    },
    {
      "cell_type": "markdown",
      "source": [
        "To create a RESTful API endpoint in Flask:\n",
        "\n",
        "1.Define a route with @app.route() and specify allowed HTTP methods (GET, POST, etc.).\n",
        "\n",
        "2.Write a function that performs the desired action (like retrieving or saving data).\n",
        "\n",
        "3.Return a response (usually JSON) along with a proper HTTP status code.\n",
        "\n",
        "This makes the API usable by clients like web apps or mobile apps."
      ],
      "metadata": {
        "id": "XJqvwSEm2die"
      }
    },
    {
      "cell_type": "markdown",
      "source": [
        "15. What is the purpose of Flask's jsonify() function?"
      ],
      "metadata": {
        "id": "tOBjsgHWzQI5"
      }
    },
    {
      "cell_type": "markdown",
      "source": [
        "It converts Python dictionaries/lists into proper JSON responses with correct MIME type (application/json)."
      ],
      "metadata": {
        "id": "OL4qObuIzW2a"
      }
    },
    {
      "cell_type": "markdown",
      "source": [
        "16. Explain Flask’s url_for() function"
      ],
      "metadata": {
        "id": "dmW9RVUrzYfr"
      }
    },
    {
      "cell_type": "markdown",
      "source": [
        "url_for() is used to dynamically generate URLs for Flask routes. Instead of hardcoding URLs, you reference the function name of the route. This improves maintainability and helps avoid broken links when routes change."
      ],
      "metadata": {
        "id": "r-hKlH7lzcyT"
      }
    },
    {
      "cell_type": "markdown",
      "source": [
        "17. How does Flask handle static files (CSS, JavaScript, etc.)?"
      ],
      "metadata": {
        "id": "7hdJkZwGznoV"
      }
    },
    {
      "cell_type": "markdown",
      "source": [
        "Flask serves static files (like CSS, JS, and images) from a special folder named static/. You can access them in your HTML templates using url_for('static', filename='...'). This makes it easy to include styling and client-side scripts in web applications.\n",
        "\n"
      ],
      "metadata": {
        "id": "dgOZOUDozpU6"
      }
    },
    {
      "cell_type": "markdown",
      "source": [
        "18. What is an API specification, and how does it help in building a Flask API?"
      ],
      "metadata": {
        "id": "Nfw025AEzp8_"
      }
    },
    {
      "cell_type": "markdown",
      "source": [
        "An API specification is a formal document that defines how clients should interact with an API—covering endpoints, request/response formats, parameters, authentication, and status codes. Common formats include OpenAPI (Swagger)."
      ],
      "metadata": {
        "id": "9QvabFXuztoq"
      }
    },
    {
      "cell_type": "markdown",
      "source": [
        "19. What are HTTP status codes, and why are they important in a Flask API?"
      ],
      "metadata": {
        "id": "IROmrFDGzzHk"
      }
    },
    {
      "cell_type": "markdown",
      "source": [
        "They indicate the result of an HTTP request (e.g., 200 OK, 404 Not Found, 500 Internal Server Error). They guide client behavior."
      ],
      "metadata": {
        "id": "EpMR4AgIz23c"
      }
    },
    {
      "cell_type": "markdown",
      "source": [
        "20. How do you handle POST requests in Flask?"
      ],
      "metadata": {
        "id": "pqqJjk2bz5Mg"
      }
    },
    {
      "cell_type": "markdown",
      "source": [
        "To handle a POST request in Flask:\n",
        "\n",
        "- Define a route that accepts the POST method.\n",
        "\n",
        "- Use the request object to access the posted data (form or JSON).\n",
        "\n",
        "- Validate the input data.\n",
        "\n",
        "- Perform the desired logic (e.g., saving data to a database).\n",
        "\n",
        "- Return a response (often JSON) with a success status code like 201 Created.\n",
        "\n"
      ],
      "metadata": {
        "id": "fCR_cfP92HmA"
      }
    },
    {
      "cell_type": "markdown",
      "source": [
        "21. How would you secure a Flask API?"
      ],
      "metadata": {
        "id": "1vZHtsn8z8mj"
      }
    },
    {
      "cell_type": "markdown",
      "source": [
        "- Use authentication (e.g., JWT, API keys)\n",
        "\n",
        "- HTTPS\n",
        "\n",
        "- Input validation/sanitization\n",
        "\n",
        "- CORS control\n",
        "\n",
        "- Rate limiting (e.g., Flask-Limiter)"
      ],
      "metadata": {
        "id": "8OKz3-v_z_iN"
      }
    },
    {
      "cell_type": "markdown",
      "source": [
        "22. What is the significance of the Flask-RESTful extension?"
      ],
      "metadata": {
        "id": "jhi22nNd0GHM"
      }
    },
    {
      "cell_type": "markdown",
      "source": [
        "Flask-RESTful is an extension that simplifies the creation of REST APIs. It provides:\n",
        "\n",
        "- A class-based structure for defining resources\n",
        "\n",
        "- Built-in request parsing and input validation\n",
        "\n",
        "- Better organization for large APIs\n",
        "\n",
        "- Cleaner code compared to manually managing routes and responses\n",
        "\n",
        "It helps developers follow REST principles more easily."
      ],
      "metadata": {
        "id": "hv3D8C0J14XR"
      }
    },
    {
      "cell_type": "markdown",
      "source": [
        "23. What is the role of Flask’s session object?"
      ],
      "metadata": {
        "id": "zCdAKyTx0Pkg"
      }
    },
    {
      "cell_type": "markdown",
      "source": [
        "Flask’s session object is used to store data across multiple requests for the same user. It stores information on the client side in a cookie, but it's securely signed to prevent tampering. Common uses include:\n",
        "\n",
        "- Keeping users logged in\n",
        "\n",
        "- Storing temporary data like preferences or cart items"
      ],
      "metadata": {
        "id": "jsy6gE7f1xXt"
      }
    },
    {
      "cell_type": "markdown",
      "source": [
        "Practical"
      ],
      "metadata": {
        "id": "VPOML65JObAJ"
      }
    },
    {
      "cell_type": "markdown",
      "source": [
        " 1. How do you create a basic Flask application?"
      ],
      "metadata": {
        "id": "U4FblO6VOgc6"
      }
    },
    {
      "cell_type": "code",
      "source": [
        "from flask import Flask\n",
        "\n",
        "app = Flask(__name__)\n",
        "\n",
        "@app.route('/')\n",
        "def home():\n",
        "    return \"Hello, Flask!\"\n",
        "\n",
        "if __name__ == '__main__':\n",
        "    app.run(debug=True)\n"
      ],
      "metadata": {
        "colab": {
          "base_uri": "https://localhost:8080/"
        },
        "id": "S6orfMN4PIQz",
        "outputId": "59b3285a-055d-4d32-c27e-14182ee8dbf1"
      },
      "execution_count": 2,
      "outputs": [
        {
          "output_type": "stream",
          "name": "stdout",
          "text": [
            " * Serving Flask app '__main__'\n",
            " * Debug mode: on\n"
          ]
        },
        {
          "output_type": "stream",
          "name": "stderr",
          "text": [
            "INFO:werkzeug:\u001b[31m\u001b[1mWARNING: This is a development server. Do not use it in a production deployment. Use a production WSGI server instead.\u001b[0m\n",
            " * Running on http://127.0.0.1:5000\n",
            "INFO:werkzeug:\u001b[33mPress CTRL+C to quit\u001b[0m\n",
            "INFO:werkzeug: * Restarting with stat\n"
          ]
        }
      ]
    },
    {
      "cell_type": "markdown",
      "source": [
        " 2. How do you serve static files like images or CSS in Flask?"
      ],
      "metadata": {
        "id": "OmLLnjoUPgNm"
      }
    },
    {
      "cell_type": "markdown",
      "source": [
        "from flask import Flask, render_template\n",
        "app = Flask(__name__)\n",
        "\n",
        "@app.route('/')\n",
        "def home():\n",
        "    return render_template(\"index.html\")\n"
      ],
      "metadata": {
        "id": "bXyaP0X8PsKj"
      }
    },
    {
      "cell_type": "markdown",
      "source": [
        "3. How do you define different routes with different HTTP methods?"
      ],
      "metadata": {
        "id": "e1h3EGIRQc37"
      }
    },
    {
      "cell_type": "code",
      "source": [
        "from flask import Flask, request\n",
        "\n",
        "app = Flask(__name__)\n",
        "\n",
        "@app.route('/data', methods=['GET', 'POST'])\n",
        "def data():\n",
        "    if request.method == 'POST':\n",
        "        return \"POST method used\"\n",
        "    return \"GET method used\"\n"
      ],
      "metadata": {
        "id": "aK0TYFB7Qh0D"
      },
      "execution_count": 7,
      "outputs": []
    },
    {
      "cell_type": "markdown",
      "source": [
        "4. How do you render HTML templates in Flask?"
      ],
      "metadata": {
        "id": "cbjUUMMgQu-N"
      }
    },
    {
      "cell_type": "code",
      "source": [
        "from flask import Flask, render_template\n",
        "app = Flask(__name__)\n",
        "\n",
        "@app.route('/')\n",
        "def home():\n",
        "    return render_template(\"index.html\", name=\"Rohitraj\")\n"
      ],
      "metadata": {
        "id": "07rHa89fQ7_N"
      },
      "execution_count": 9,
      "outputs": []
    },
    {
      "cell_type": "markdown",
      "source": [
        "5. How can you generate URLs for routes in Flask using url_for()?"
      ],
      "metadata": {
        "id": "F7BiFvEZRDHr"
      }
    },
    {
      "cell_type": "code",
      "source": [
        "from flask import Flask, url_for, redirect\n",
        "\n",
        "app = Flask(__name__)\n",
        "\n",
        "@app.route('/')\n",
        "def home():\n",
        "    return redirect(url_for('about'))\n",
        "\n",
        "@app.route('/about')\n",
        "def about():\n",
        "    return \"This is the About Page\"\n"
      ],
      "metadata": {
        "id": "gMojMx7SREeU"
      },
      "execution_count": 10,
      "outputs": []
    },
    {
      "cell_type": "markdown",
      "source": [
        " 6. How do you handle forms in Flask?"
      ],
      "metadata": {
        "id": "mpd0xVKQRIOe"
      }
    },
    {
      "cell_type": "code",
      "source": [
        "from flask import Flask, request, render_template\n",
        "app = Flask(__name__)\n",
        "\n",
        "@app.route('/login', methods=['GET', 'POST'])\n",
        "def login():\n",
        "    if request.method == 'POST':\n",
        "        user = request.form['username']\n",
        "        return f\"Welcome, {user}\"\n",
        "    return render_template('form.html')\n"
      ],
      "metadata": {
        "id": "KyJQNVJ5RKds"
      },
      "execution_count": 15,
      "outputs": []
    },
    {
      "cell_type": "markdown",
      "source": [
        "7. How can you validate form data in Flask?"
      ],
      "metadata": {
        "id": "Dh-lk7AFROhE"
      }
    },
    {
      "cell_type": "code",
      "source": [
        "@app.route('/register', methods=['POST'])\n",
        "def register():\n",
        "    email = request.form['email']\n",
        "    if '@' not in email:\n",
        "        return \"Invalid email address\"\n",
        "    return \"Registration successful\"\n"
      ],
      "metadata": {
        "id": "KWR4fE4WTXXi"
      },
      "execution_count": null,
      "outputs": []
    },
    {
      "cell_type": "markdown",
      "source": [
        "8. How do you manage sessions in Flask?"
      ],
      "metadata": {
        "id": "uerj0hghRTZI"
      }
    },
    {
      "cell_type": "code",
      "source": [
        "from flask import Flask, session\n",
        "\n",
        "app = Flask(__name__)\n",
        "app.secret_key = 'secret123'\n",
        "\n",
        "@app.route('/set/')\n",
        "def set():\n",
        "    session['user'] = 'Rohitraj'\n",
        "    return 'Session set'\n",
        "\n",
        "@app.route('/get/')\n",
        "def get():\n",
        "    return session.get('user', 'Not logged in')\n"
      ],
      "metadata": {
        "id": "5jHqv61URZQk"
      },
      "execution_count": null,
      "outputs": []
    },
    {
      "cell_type": "markdown",
      "source": [
        "9. How do you redirect to a different route in Flask?"
      ],
      "metadata": {
        "id": "ssUVT3RhRcwO"
      }
    },
    {
      "cell_type": "code",
      "source": [
        "from flask import Flask, redirect, url_for\n",
        "\n",
        "app = Flask(__name__)\n",
        "\n",
        "@app.route('/')\n",
        "def home():\n",
        "    return redirect(url_for('dashboard'))\n",
        "\n",
        "@app.route('/dashboard')\n",
        "def dashboard():\n",
        "    return \"Welcome to Dashboard\"\n"
      ],
      "metadata": {
        "id": "8rEZ71ojRfso"
      },
      "execution_count": null,
      "outputs": []
    },
    {
      "cell_type": "markdown",
      "source": [
        "10. How do you handle errors in Flask (e.g., 404)?"
      ],
      "metadata": {
        "id": "M_npzkuIRhkz"
      }
    },
    {
      "cell_type": "code",
      "source": [
        "@app.errorhandler(404)\n",
        "def page_not_found(e):\n",
        "    return \"Custom 404 - Page Not Found\", 404\n"
      ],
      "metadata": {
        "id": "9FVi4PT8RnSL"
      },
      "execution_count": null,
      "outputs": []
    },
    {
      "cell_type": "markdown",
      "source": [
        "11. How do you structure a Flask app using Blueprints?"
      ],
      "metadata": {
        "id": "GK0yUyYZRoVj"
      }
    },
    {
      "cell_type": "code",
      "source": [
        "from flask import Blueprint\n",
        "main = Blueprint('main', __name__)\n",
        "\n",
        "@main.route('/')\n",
        "def home():\n",
        "    return \"Home from Blueprint\"\n"
      ],
      "metadata": {
        "id": "IoqVbKryRuOx"
      },
      "execution_count": null,
      "outputs": []
    },
    {
      "cell_type": "markdown",
      "source": [
        "app,py"
      ],
      "metadata": {
        "id": "m-sXFRkgRymy"
      }
    },
    {
      "cell_type": "code",
      "source": [
        "from flask import Flask\n",
        "from main.routes import main\n",
        "\n",
        "app = Flask(__name__)\n",
        "app.register_blueprint(main)\n"
      ],
      "metadata": {
        "id": "pHmHE0S0R1SH"
      },
      "execution_count": null,
      "outputs": []
    },
    {
      "cell_type": "markdown",
      "source": [
        "12. How do you define a custom Jinja filter in Flask?"
      ],
      "metadata": {
        "id": "zmL6hnJ6R8LU"
      }
    },
    {
      "cell_type": "code",
      "source": [
        "@app.template_filter('capitalize')\n",
        "def capitalize_filter(s):\n",
        "    return s.capitalize()\n"
      ],
      "metadata": {
        "id": "OLW82ceRR_q8"
      },
      "execution_count": null,
      "outputs": []
    },
    {
      "cell_type": "markdown",
      "source": [
        "13. How can you redirect with query parameters in Flask?"
      ],
      "metadata": {
        "id": "DzaUKk8XSEq1"
      }
    },
    {
      "cell_type": "code",
      "source": [
        "from flask import redirect, url_for\n",
        "\n",
        "@app.route('/go')\n",
        "def go():\n",
        "    return redirect(url_for('hello', name='Rohitraj'))\n",
        "\n",
        "@app.route('/hello')\n",
        "def hello():\n",
        "    name = request.args.get('name')\n",
        "    return f\"Hello {name}\"\n"
      ],
      "metadata": {
        "id": "HyiehoHqSI2k"
      },
      "execution_count": null,
      "outputs": []
    },
    {
      "cell_type": "markdown",
      "source": [
        "14. How do you return JSON responses in Flask?"
      ],
      "metadata": {
        "id": "y7BI01UfSKSv"
      }
    },
    {
      "cell_type": "code",
      "source": [
        "from flask import jsonify\n",
        "\n",
        "@app.route('/api')\n",
        "def api():\n",
        "    return jsonify({\"name\": \"Rohitraj\", \"age\": 21})\n"
      ],
      "metadata": {
        "id": "TZI8b7ztSNPF"
      },
      "execution_count": null,
      "outputs": []
    },
    {
      "cell_type": "markdown",
      "source": [
        "15. How do you capture URL parameters in Flask?"
      ],
      "metadata": {
        "id": "bekGkhaESOKX"
      }
    },
    {
      "cell_type": "code",
      "source": [
        "@app.route('/user/<username>')\n",
        "def profile(username):\n",
        "    return f\"Welcome, {username}\"\n"
      ],
      "metadata": {
        "id": "ZwyjT4APSSX0"
      },
      "execution_count": null,
      "outputs": []
    }
  ]
}